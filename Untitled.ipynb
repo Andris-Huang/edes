{
 "cells": [
  {
   "cell_type": "code",
   "execution_count": 5,
   "id": "eb308bec-809c-490c-9f10-74154e34c478",
   "metadata": {},
   "outputs": [],
   "source": [
    "from artiq.experiment import HasEnvironment\n",
    "from artiq.master.worker_db import DeviceManager, DatasetManager"
   ]
  },
  {
   "cell_type": "code",
   "execution_count": 6,
   "id": "50f5ed94-c7ab-4bb0-8b04-56599b57c425",
   "metadata": {},
   "outputs": [
    {
     "data": {
      "text/plain": [
       "mappingproxy({'__module__': 'artiq.master.worker_db',\n",
       "              '__init__': <function artiq.master.worker_db.DatasetManager.__init__(self, ddb)>,\n",
       "              'set': <function artiq.master.worker_db.DatasetManager.set(self, key, value, broadcast=False, persist=False, archive=True)>,\n",
       "              '_get_mutation_target': <function artiq.master.worker_db.DatasetManager._get_mutation_target(self, key)>,\n",
       "              'mutate': <function artiq.master.worker_db.DatasetManager.mutate(self, key, index, value)>,\n",
       "              'append_to': <function artiq.master.worker_db.DatasetManager.append_to(self, key, value)>,\n",
       "              'get': <function artiq.master.worker_db.DatasetManager.get(self, key, archive=False)>,\n",
       "              'write_hdf5': <function artiq.master.worker_db.DatasetManager.write_hdf5(self, f)>,\n",
       "              '__dict__': <attribute '__dict__' of 'DatasetManager' objects>,\n",
       "              '__weakref__': <attribute '__weakref__' of 'DatasetManager' objects>,\n",
       "              '__doc__': None})"
      ]
     },
     "execution_count": 6,
     "metadata": {},
     "output_type": "execute_result"
    }
   ],
   "source": [
    "DatasetManager.__dict__"
   ]
  },
  {
   "cell_type": "code",
   "execution_count": null,
   "id": "3567cd0b-e314-4dfb-bd5a-579be7a0c07a",
   "metadata": {},
   "outputs": [],
   "source": []
  }
 ],
 "metadata": {
  "kernelspec": {
   "display_name": "artiq",
   "language": "python",
   "name": "artiq"
  },
  "language_info": {
   "codemirror_mode": {
    "name": "ipython",
    "version": 3
   },
   "file_extension": ".py",
   "mimetype": "text/x-python",
   "name": "python",
   "nbconvert_exporter": "python",
   "pygments_lexer": "ipython3",
   "version": "3.8.20"
  }
 },
 "nbformat": 4,
 "nbformat_minor": 5
}
