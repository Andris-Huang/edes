{
 "cells": [
  {
   "cell_type": "code",
   "execution_count": 2,
   "id": "3a48963f-f8a6-4c89-9d91-af29bd987f2e",
   "metadata": {},
   "outputs": [],
   "source": [
    "import numpy as np\n",
    "import matplotlib.pyplot as plt\n",
    "import detection_utils as utils\n",
    "from detection_utils import e, m, kB \n",
    "from detection_utils import plot, plot_ax, plot_errbar, plot_power_spectrum\n",
    "from detection_utils import W_to_dBm, dBm_to_W, dB_to_frac, frac_to_dB, voltage_noise_to_dBm\n",
    "from detection_utils import find_width, moving_avg\n",
    "from detection_utils import Component, DetectionSetup\n",
    "from detection_utils import BandPassFilter, SpectrumAnalyzer, Amplifier\n",
    "from detection_utils import HarmonicElectron, TankCircuit\n",
    "from detection_utils import HarmoincElectronCoupledTank, ElectronCoupledToTank\n",
    "from detection_utils import AnharmonicElectronSetup\n",
    "\n",
    "np.random.seed(12345)\n",
    "plt.rcParams['font.size'] = 13.5"
   ]
  }
 ],
 "metadata": {
  "kernelspec": {
   "display_name": "Electron",
   "language": "python",
   "name": "e"
  },
  "language_info": {
   "codemirror_mode": {
    "name": "ipython",
    "version": 3
   },
   "file_extension": ".py",
   "mimetype": "text/x-python",
   "name": "python",
   "nbconvert_exporter": "python",
   "pygments_lexer": "ipython3",
   "version": "3.8.16"
  }
 },
 "nbformat": 4,
 "nbformat_minor": 5
}
