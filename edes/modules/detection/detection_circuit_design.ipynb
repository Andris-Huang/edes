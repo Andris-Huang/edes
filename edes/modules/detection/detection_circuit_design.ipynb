{
 "cells": [
  {
   "cell_type": "code",
   "execution_count": 1,
   "id": "02a47960-f4bc-4036-a4b4-5c3e55512510",
   "metadata": {},
   "outputs": [],
   "source": [
    "import numpy as np\n",
    "import matplotlib.pyplot as plt\n",
    "import detection_utils as utils\n",
    "from detection_utils import e, m, kB \n",
    "from detection_utils import plot, plot_ax, plot_errbar, plot_power_spectrum\n",
    "from detection_utils import W_to_dBm, dBm_to_W, dB_to_frac, frac_to_dB, voltage_noise_to_dBm\n",
    "from detection_utils import find_width, moving_avg\n",
    "from detection_utils import Component, DetectionSetup\n",
    "from detection_utils import BandPassFilter, SpectrumAnalyzer, Amplifier\n",
    "from detection_utils import HarmonicElectron, TankCircuit\n",
    "from detection_utils import HarmoincElectronCoupledTank, ElectronCoupledToTank\n",
    "from detection_utils import AnharmonicElectronSetup"
   ]
  },
  {
   "cell_type": "code",
   "execution_count": 45,
   "id": "346b3c25-aa91-42d1-96f8-4186d09e4b2a",
   "metadata": {},
   "outputs": [],
   "source": [
    "def T_to_A(T, f): \n",
    "    \"\"\" \n",
    "    Find motional amplitude given temperature and frequency, \n",
    "    assuming 1/2*kT = 1/2mw^2 A^2\n",
    "    \n",
    "    Parameters\n",
    "    ------\n",
    "    T : [K] \n",
    "        Temperature \n",
    "    f : [Hz] \n",
    "        Motional frequency \n",
    "    \"\"\"\n",
    "    return np.sqrt(kB*T/m/(2*np.pi*f)**2)\n",
    "\n",
    "class AnharmonicElectron(HarmonicElectron): \n",
    "    def __init__(self, n, d, f0, Qe=1e4, T=4, m=m, e=e, name='Electron'): \n",
    "        super().__init__(n, d, 2*np.pi*f0, m, e, name) \n",
    "        self.r = 1 / (Qe*2*np.pi*f0*self.c)\n",
    "        self.d = d \n",
    "        self.T = T\n",
    "        self.f0 = f0\n",
    "        self.n = n\n",
    "\n",
    "    def set_T(self, T): \n",
    "        self.T = T \n",
    "\n",
    "    def set_d(self, d): \n",
    "        self.d = d\n",
    "        \n",
    "    def get_A(self, T=None): \n",
    "        if T is not None:\n",
    "            return T_to_A(T, self.f0)\n",
    "        else: \n",
    "            return T_to_A(self.T, self.f0)\n",
    "\n",
    "    def get_current(self, T=None, d=None): \n",
    "        T = self.T if T is None else T \n",
    "        d = self.d if d is None else d\n",
    "        A = self.get_A(T) \n",
    "        return e*A*2*np.pi*self.f0/d*self.n\n",
    "\n",
    "class PLCQ(TankCircuit): \n",
    "    def __init__(self, Q, Z0, f0, T=4, QC=1000): \n",
    "        super().__init__(Q, Z0, 2*np.pi*f0, T) \n",
    "        self.QL = 1 / (1/Q - 1/QC)"
   ]
  },
  {
   "cell_type": "code",
   "execution_count": 46,
   "id": "24793a62-265c-48e3-9c54-d73816c77ebd",
   "metadata": {},
   "outputs": [],
   "source": [
    "n = 100  # number of electrons\n",
    "d = 1e-3  # effective distance, in m\n",
    "Q = 500  # quality factor of tank circuit\n",
    "Qe = 1e4  # quality factor of the electron\n",
    "Z0 = 150  # characteristic impedance of the tank circuit, in Ohm\n",
    "f0 = 150e6  # resonant frequency of the tank circuit, in Hz (NOT angular freq)\n",
    "T = 300  # temperature of the tank circuit, in K\n",
    "\n",
    "ele = AnharmonicElectron(n, d, f0, Qe, T) \n",
    "tank = PLCQ(Q, Z0, f0, T)"
   ]
  },
  {
   "cell_type": "code",
   "execution_count": 50,
   "id": "8f012c68-5ec7-4150-8259-93c614404db2",
   "metadata": {},
   "outputs": [
    {
     "data": {
      "text/plain": [
       "(1.0803591751796805e-09,\n",
       " 71.54621173707163,\n",
       " 0.3548691188543275,\n",
       " 3.1724116569901986,\n",
       " 334456265.0335915)"
      ]
     },
     "execution_count": 50,
     "metadata": {},
     "output_type": "execute_result"
    }
   ],
   "source": [
    "ele.get_current(), ele.get_A()*1e6, ele.l, ele.c*1e18, np.sqrt(ele.l/ele.c)"
   ]
  },
  {
   "cell_type": "code",
   "execution_count": 40,
   "id": "baaf0c47-7050-46e0-bac2-aa0b5ca7e0a1",
   "metadata": {},
   "outputs": [
    {
     "data": {
      "text/plain": [
       "(1000.0, 159.15494309189535, 7.07355302630646)"
      ]
     },
     "execution_count": 40,
     "metadata": {},
     "output_type": "execute_result"
    }
   ],
   "source": [
    "tank.QL, tank.L*1e9, tank.C*1e12"
   ]
  },
  {
   "cell_type": "code",
   "execution_count": 42,
   "id": "4c70287a-0089-442d-918f-438b8b5c54d2",
   "metadata": {},
   "outputs": [
    {
     "data": {
      "text/plain": [
       "(8.102693813847604e-07, 336.36684900700226)"
      ]
     },
     "execution_count": 42,
     "metadata": {},
     "output_type": "execute_result"
    }
   ],
   "source": [
    "ele.get_current()*Q*Z0, e**2*Q*Z0/m/d**2/2/np.pi"
   ]
  },
  {
   "cell_type": "code",
   "execution_count": 48,
   "id": "220b2093-aade-4811-8601-cca9b9b8373c",
   "metadata": {},
   "outputs": [
    {
     "data": {
      "text/plain": [
       "3.525030638164724e-08"
      ]
     },
     "execution_count": 48,
     "metadata": {},
     "output_type": "execute_result"
    }
   ],
   "source": [
    "np.sqrt(4*kB*T*Q*Z0)"
   ]
  },
  {
   "cell_type": "code",
   "execution_count": 51,
   "id": "c4d06e20-4c1a-4895-aae9-99f01641ded8",
   "metadata": {},
   "outputs": [
    {
     "data": {
      "text/plain": [
       "1.6567788e-20"
      ]
     },
     "execution_count": 51,
     "metadata": {},
     "output_type": "execute_result"
    }
   ],
   "source": [
    "4*kB*T"
   ]
  },
  {
   "cell_type": "code",
   "execution_count": null,
   "id": "79baabc4-2277-417b-9813-6e3ece2e8932",
   "metadata": {},
   "outputs": [],
   "source": []
  }
 ],
 "metadata": {
  "kernelspec": {
   "display_name": "Electron",
   "language": "python",
   "name": "e"
  },
  "language_info": {
   "codemirror_mode": {
    "name": "ipython",
    "version": 3
   },
   "file_extension": ".py",
   "mimetype": "text/x-python",
   "name": "python",
   "nbconvert_exporter": "python",
   "pygments_lexer": "ipython3",
   "version": "3.8.16"
  }
 },
 "nbformat": 4,
 "nbformat_minor": 5
}
