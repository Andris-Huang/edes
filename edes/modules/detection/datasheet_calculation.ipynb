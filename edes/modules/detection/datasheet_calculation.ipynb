{
 "cells": [
  {
   "cell_type": "code",
   "execution_count": 1,
   "id": "c9196359-edc2-461a-97d3-3cbaff8570cb",
   "metadata": {},
   "outputs": [],
   "source": [
    "import scipy.constants as spc\n",
    "import numpy as np \n",
    "from detection_utils import plot, plot_ax, plot_ax_errbar"
   ]
  },
  {
   "cell_type": "code",
   "execution_count": 6,
   "id": "6c4aecf0-d488-4ac1-861c-8c25009b4899",
   "metadata": {},
   "outputs": [
    {
     "data": {
      "text/plain": [
       "15.217760059028416"
      ]
     },
     "execution_count": 6,
     "metadata": {},
     "output_type": "execute_result"
    }
   ],
   "source": [
    "R_simp = 52e3 \n",
    "fz = 70e6 \n",
    "omega_z = 2*np.pi * fz \n",
    "C = 13e-12 \n",
    "Q = 300 \n",
    "Z = Q/(omega_z*C) \n",
    "d = 150e-6\n",
    "1/(spc.e**2*Z/spc.m_e/d**2)*1e6"
   ]
  },
  {
   "cell_type": "code",
   "execution_count": 7,
   "id": "f91ed7b4-ea4f-44e8-99c9-83dd4ce5ad1e",
   "metadata": {},
   "outputs": [
    {
     "data": {
      "text/plain": [
       "3.4729453874197334e-09"
      ]
     },
     "execution_count": 7,
     "metadata": {},
     "output_type": "execute_result"
    }
   ],
   "source": [
    "np.sqrt(4*spc.k*4.2*52e3)"
   ]
  },
  {
   "cell_type": "code",
   "execution_count": 14,
   "id": "554aa76e-73ee-4beb-9363-1c0077ca4c6f",
   "metadata": {},
   "outputs": [],
   "source": [
    "def get_f_LC(L, C): \n",
    "    return 1/np.sqrt(L*C)/2/np.pi"
   ]
  },
  {
   "cell_type": "code",
   "execution_count": 15,
   "id": "c02065c4-00e7-4760-b3b1-e48e639ce300",
   "metadata": {},
   "outputs": [
    {
     "data": {
      "text/plain": [
       "4.467754702402406"
      ]
     },
     "execution_count": 15,
     "metadata": {},
     "output_type": "execute_result"
    }
   ],
   "source": [
    "get_f_LC(4.7e-6, 270e-12)/1e6"
   ]
  },
  {
   "cell_type": "code",
   "execution_count": null,
   "id": "cb2a55bd-d148-40cf-92da-87e54426ebcd",
   "metadata": {},
   "outputs": [],
   "source": []
  }
 ],
 "metadata": {
  "kernelspec": {
   "display_name": "Electron",
   "language": "python",
   "name": "e"
  },
  "language_info": {
   "codemirror_mode": {
    "name": "ipython",
    "version": 3
   },
   "file_extension": ".py",
   "mimetype": "text/x-python",
   "name": "python",
   "nbconvert_exporter": "python",
   "pygments_lexer": "ipython3",
   "version": "3.8.16"
  }
 },
 "nbformat": 4,
 "nbformat_minor": 5
}
