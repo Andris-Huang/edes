{
 "cells": [
  {
   "cell_type": "code",
   "execution_count": 1,
   "id": "80378e84-945b-409b-85cb-30f77bfa7a59",
   "metadata": {},
   "outputs": [],
   "source": [
    "import numpy as np\n",
    "import matplotlib.pyplot as plt\n",
    "import detection_utils as utils\n",
    "from detection_utils import e, m, kB \n",
    "from detection_utils import plot, plot_ax, plot_errbar, plot_power_spectrum\n",
    "from detection_utils import W_to_dBm, dBm_to_W, dB_to_frac, frac_to_dB, voltage_noise_to_dBm\n",
    "from detection_utils import find_width, moving_avg\n",
    "from detection_utils import Component, DetectionSetup\n",
    "from detection_utils import BandPassFilter, SpectrumAnalyzer, Amplifier\n",
    "from detection_utils import HarmonicElectron, TankCircuit\n",
    "from detection_utils import HarmonicElectronCoupledTank, ElectronCoupledToTank\n",
    "from detection_utils import AnharmonicElectronSetup"
   ]
  },
  {
   "cell_type": "code",
   "execution_count": 5,
   "id": "46eafa0b-6e3e-440c-bb6e-01697af41e4d",
   "metadata": {},
   "outputs": [
    {
     "data": {
      "text/plain": [
       "72.6771956402969"
      ]
     },
     "execution_count": 5,
     "metadata": {},
     "output_type": "execute_result"
    }
   ],
   "source": [
    "1/(e**2*150*300/m/(9.6e-3)**2)*1e3"
   ]
  },
  {
   "cell_type": "code",
   "execution_count": 2,
   "id": "cf9fad70-300d-4347-998a-82ad53606317",
   "metadata": {},
   "outputs": [],
   "source": [
    "fz = 200e6"
   ]
  },
  {
   "cell_type": "code",
   "execution_count": 3,
   "id": "afc2201b-9f61-46ac-813f-cd51f6eefd8f",
   "metadata": {},
   "outputs": [],
   "source": [
    "ele = HarmonicElectron(n=1, d=1e-3, omega=2*np.pi*fz)"
   ]
  },
  {
   "cell_type": "code",
   "execution_count": 4,
   "id": "79b18f71-08f5-45ff-9ed8-952f49582f38",
   "metadata": {},
   "outputs": [
    {
     "data": {
      "text/plain": [
       "(35.48691188543275, 1.784481557056987e-20)"
      ]
     },
     "execution_count": 4,
     "metadata": {},
     "output_type": "execute_result"
    }
   ],
   "source": [
    "le, ce = ele.get_lc() \n",
    "le, ce"
   ]
  },
  {
   "cell_type": "code",
   "execution_count": 5,
   "id": "b41d0ccf-22d0-4819-ae96-c324549b6311",
   "metadata": {},
   "outputs": [
    {
     "name": "stdout",
     "output_type": "stream",
     "text": [
      "4.46e+07\n"
     ]
    }
   ],
   "source": [
    "Qe = 1000\n",
    "Ctrap = 4e-12\n",
    "Ceff = utils.parallel(Ctrap, ce)\n",
    "ze = 1/Qe * np.sqrt(le/Ceff)\n",
    "print(f'{ze:.2e}')"
   ]
  },
  {
   "cell_type": "code",
   "execution_count": 6,
   "id": "21e27ca2-381f-496a-aafc-71b4c44a1cc2",
   "metadata": {},
   "outputs": [
    {
     "data": {
      "text/plain": [
       "(35.48691188543275, 1.7844815490960508e-20, 44594168.77061737)"
      ]
     },
     "execution_count": 6,
     "metadata": {},
     "output_type": "execute_result"
    }
   ],
   "source": [
    "le, Ceff, ze"
   ]
  },
  {
   "cell_type": "code",
   "execution_count": 7,
   "id": "dadf88a8-5cae-4ba2-bba9-ea0a0cb6e506",
   "metadata": {},
   "outputs": [],
   "source": [
    "tank = TankCircuit(Q=200,Z0=300,omega_0=2*np.pi*200e6,T=300)"
   ]
  },
  {
   "cell_type": "code",
   "execution_count": 8,
   "id": "b205e75f-b85e-4bb9-b6d5-d925bd1a3988",
   "metadata": {},
   "outputs": [
    {
     "data": {
      "text/plain": [
       "(60000, 2.38732414637843e-07, 2.6525823848649226e-12)"
      ]
     },
     "execution_count": 8,
     "metadata": {},
     "output_type": "execute_result"
    }
   ],
   "source": [
    "tank.get_RLC()"
   ]
  },
  {
   "cell_type": "code",
   "execution_count": 9,
   "id": "2cd69067-0cc6-4731-802b-255511eacc5c",
   "metadata": {},
   "outputs": [
    {
     "data": {
      "text/plain": [
       "193.64916731037084"
      ]
     },
     "execution_count": 9,
     "metadata": {},
     "output_type": "execute_result"
    }
   ],
   "source": [
    "np.sqrt(150e-9/4e-12)"
   ]
  },
  {
   "cell_type": "code",
   "execution_count": 10,
   "id": "f33f0195-ebec-4c4c-88af-9153e9396554",
   "metadata": {},
   "outputs": [
    {
     "data": {
      "text/plain": [
       "(44594168.77061737-9414324497.241829j)"
      ]
     },
     "execution_count": 10,
     "metadata": {},
     "output_type": "execute_result"
    }
   ],
   "source": [
    "s = 1j*2*np.pi*180e6 \n",
    "s*le + 1/s/ce + ze"
   ]
  },
  {
   "cell_type": "code",
   "execution_count": 11,
   "id": "afae6152-bf74-4a74-918a-457d9686797e",
   "metadata": {},
   "outputs": [
    {
     "data": {
      "text/plain": [
       "51101.15311502316"
      ]
     },
     "execution_count": 11,
     "metadata": {},
     "output_type": "execute_result"
    }
   ],
   "source": [
    "36e3*m*(200e-6)**2/e**2"
   ]
  },
  {
   "cell_type": "code",
   "execution_count": 12,
   "id": "00138560-440f-47b7-bc7d-e0ff369002af",
   "metadata": {},
   "outputs": [
    {
     "data": {
      "text/plain": [
       "41.666666666666664"
      ]
     },
     "execution_count": 12,
     "metadata": {},
     "output_type": "execute_result"
    }
   ],
   "source": [
    "1/24e-3"
   ]
  },
  {
   "cell_type": "code",
   "execution_count": 13,
   "id": "11713843-5d01-4ea7-a321-341498b6b9a6",
   "metadata": {},
   "outputs": [],
   "source": [
    "omega = 2*np.pi*200e6\n",
    "Ct = 2.5e-12\n",
    "Lt = 1/omega**2/2.5e-12 \n",
    "Zr = 200 * np.sqrt(Lt/Ct)"
   ]
  },
  {
   "cell_type": "code",
   "execution_count": 14,
   "id": "5edaab2b-607e-48e7-8955-241d3ec28763",
   "metadata": {},
   "outputs": [
    {
     "data": {
      "text/plain": [
       "49960.65867990871"
      ]
     },
     "execution_count": 14,
     "metadata": {},
     "output_type": "execute_result"
    }
   ],
   "source": [
    "np.sqrt(44.43e-6/0.0178e-12)"
   ]
  },
  {
   "cell_type": "code",
   "execution_count": 15,
   "id": "83682be7-a021-4e1e-9137-f4b12087d592",
   "metadata": {},
   "outputs": [],
   "source": [
    "etank = ElectronCoupledToTank(ele, tank)"
   ]
  },
  {
   "cell_type": "code",
   "execution_count": 16,
   "id": "702252c9-10fe-47cb-9f6e-5aa2183d9360",
   "metadata": {},
   "outputs": [
    {
     "data": {
      "text/plain": [
       "269.0934792056018"
      ]
     },
     "execution_count": 16,
     "metadata": {},
     "output_type": "execute_result"
    }
   ],
   "source": [
    "etank.get_coupling_freq()"
   ]
  },
  {
   "cell_type": "code",
   "execution_count": 17,
   "id": "842e25ad-cd6c-42d7-b70c-65d3b02ac5a0",
   "metadata": {},
   "outputs": [
    {
     "data": {
      "text/plain": [
       "3.0200318058765734e-11"
      ]
     },
     "execution_count": 17,
     "metadata": {},
     "output_type": "execute_result"
    }
   ],
   "source": [
    "ele.get_I(A=150e-6)"
   ]
  },
  {
   "cell_type": "code",
   "execution_count": 20,
   "id": "1499d7bf-b410-44f6-a8c6-d646ae5da1e5",
   "metadata": {},
   "outputs": [
    {
     "data": {
      "text/plain": [
       "3.41639568462864e-11"
      ]
     },
     "execution_count": 20,
     "metadata": {},
     "output_type": "execute_result"
    }
   ],
   "source": [
    "ele.get_I(T=3000)"
   ]
  },
  {
   "cell_type": "code",
   "execution_count": 24,
   "id": "0c421925-575a-453c-8dd4-9749fa9f52dc",
   "metadata": {},
   "outputs": [
    {
     "data": {
      "text/plain": [
       "8283.333333333327"
      ]
     },
     "execution_count": 24,
     "metadata": {},
     "output_type": "execute_result"
    }
   ],
   "source": [
    "S = 0.988\n",
    "50*(1+S)/(1-S)"
   ]
  },
  {
   "cell_type": "code",
   "execution_count": 25,
   "id": "c07bb719-0af6-40e4-86c7-83d611bc658a",
   "metadata": {},
   "outputs": [
    {
     "data": {
      "text/plain": [
       "121.2435565298214"
      ]
     },
     "execution_count": 25,
     "metadata": {},
     "output_type": "execute_result"
    }
   ],
   "source": [
    "70*np.sqrt(3)"
   ]
  },
  {
   "cell_type": "code",
   "execution_count": null,
   "id": "26f7622c-d1bd-4de1-8068-1e5f7fafae08",
   "metadata": {},
   "outputs": [],
   "source": []
  }
 ],
 "metadata": {
  "kernelspec": {
   "display_name": "Python 3 (ipykernel)",
   "language": "python",
   "name": "python3"
  },
  "language_info": {
   "codemirror_mode": {
    "name": "ipython",
    "version": 3
   },
   "file_extension": ".py",
   "mimetype": "text/x-python",
   "name": "python",
   "nbconvert_exporter": "python",
   "pygments_lexer": "ipython3",
   "version": "3.10.18"
  }
 },
 "nbformat": 4,
 "nbformat_minor": 5
}
