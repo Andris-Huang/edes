{
 "cells": [
  {
   "cell_type": "code",
   "execution_count": 1,
   "id": "80378e84-945b-409b-85cb-30f77bfa7a59",
   "metadata": {},
   "outputs": [],
   "source": [
    "import numpy as np\n",
    "import matplotlib.pyplot as plt\n",
    "import detection_utils as utils\n",
    "from detection_utils import e, m, kB \n",
    "from detection_utils import plot, plot_ax, plot_errbar, plot_power_spectrum\n",
    "from detection_utils import W_to_dBm, dBm_to_W, dB_to_frac, frac_to_dB, voltage_noise_to_dBm\n",
    "from detection_utils import find_width, moving_avg\n",
    "from detection_utils import Component, DetectionSetup\n",
    "from detection_utils import BandPassFilter, SpectrumAnalyzer, Amplifier\n",
    "from detection_utils import HarmonicElectron, TankCircuit\n",
    "from detection_utils import HarmoincElectronCoupledTank, ElectronCoupledToTank\n",
    "from detection_utils import AnharmonicElectronSetup"
   ]
  },
  {
   "cell_type": "code",
   "execution_count": 2,
   "id": "afc2201b-9f61-46ac-813f-cd51f6eefd8f",
   "metadata": {},
   "outputs": [],
   "source": [
    "ele = HarmonicElectron(n=1, d=1e-3, omega=2*np.pi*180e6)"
   ]
  },
  {
   "cell_type": "code",
   "execution_count": 23,
   "id": "79b18f71-08f5-45ff-9ed8-952f49582f38",
   "metadata": {},
   "outputs": [
    {
     "data": {
      "text/plain": [
       "(35.48691188543275, 2.2030636506876378e-20)"
      ]
     },
     "execution_count": 23,
     "metadata": {},
     "output_type": "execute_result"
    }
   ],
   "source": [
    "le, ce = ele.get_lc() \n",
    "le, ce"
   ]
  },
  {
   "cell_type": "code",
   "execution_count": 15,
   "id": "b41d0ccf-22d0-4819-ae96-c324549b6311",
   "metadata": {},
   "outputs": [
    {
     "name": "stdout",
     "output_type": "stream",
     "text": [
      "4.01e+07\n"
     ]
    }
   ],
   "source": [
    "Qe = 1000\n",
    "Ctrap = 4e-12\n",
    "Ceff = utils.parallel(Ctrap, ce)\n",
    "ze = 1/Qe * np.sqrt(le/Ceff)\n",
    "print(f'{ze:.2e}')"
   ]
  },
  {
   "cell_type": "code",
   "execution_count": 19,
   "id": "21e27ca2-381f-496a-aafc-71b4c44a1cc2",
   "metadata": {},
   "outputs": [
    {
     "data": {
      "text/plain": [
       "(35.48691188543275, 2.203063638553914e-20, 40134751.914555244)"
      ]
     },
     "execution_count": 19,
     "metadata": {},
     "output_type": "execute_result"
    }
   ],
   "source": [
    "le, Ceff, ze"
   ]
  },
  {
   "cell_type": "code",
   "execution_count": 20,
   "id": "dadf88a8-5cae-4ba2-bba9-ea0a0cb6e506",
   "metadata": {},
   "outputs": [],
   "source": [
    "tank = TankCircuit(Q=200,Z0=300,omega_0=2*np.pi*180e6,T=300)"
   ]
  },
  {
   "cell_type": "code",
   "execution_count": 21,
   "id": "b205e75f-b85e-4bb9-b6d5-d925bd1a3988",
   "metadata": {},
   "outputs": [
    {
     "data": {
      "text/plain": [
       "(60000, 2.6525823848649226e-07, 2.947313760961025e-12)"
      ]
     },
     "execution_count": 21,
     "metadata": {},
     "output_type": "execute_result"
    }
   ],
   "source": [
    "tank.get_RLC()"
   ]
  },
  {
   "cell_type": "code",
   "execution_count": 22,
   "id": "2cd69067-0cc6-4731-802b-255511eacc5c",
   "metadata": {},
   "outputs": [
    {
     "data": {
      "text/plain": [
       "193.64916731037084"
      ]
     },
     "execution_count": 22,
     "metadata": {},
     "output_type": "execute_result"
    }
   ],
   "source": [
    "np.sqrt(150e-9/4e-12)"
   ]
  },
  {
   "cell_type": "code",
   "execution_count": 24,
   "id": "f33f0195-ebec-4c4c-88af-9153e9396554",
   "metadata": {},
   "outputs": [
    {
     "data": {
      "text/plain": [
       "(40134751.914555244-7.62939453125e-06j)"
      ]
     },
     "execution_count": 24,
     "metadata": {},
     "output_type": "execute_result"
    }
   ],
   "source": [
    "s = 1j*2*np.pi*180e6 \n",
    "s*le + 1/s/ce + ze"
   ]
  },
  {
   "cell_type": "code",
   "execution_count": 29,
   "id": "afae6152-bf74-4a74-918a-457d9686797e",
   "metadata": {},
   "outputs": [
    {
     "data": {
      "text/plain": [
       "51101.15311502316"
      ]
     },
     "execution_count": 29,
     "metadata": {},
     "output_type": "execute_result"
    }
   ],
   "source": [
    "36e3*m*(200e-6)**2/e**2"
   ]
  },
  {
   "cell_type": "code",
   "execution_count": null,
   "id": "00138560-440f-47b7-bc7d-e0ff369002af",
   "metadata": {},
   "outputs": [],
   "source": []
  }
 ],
 "metadata": {
  "kernelspec": {
   "display_name": "Electron",
   "language": "python",
   "name": "e"
  },
  "language_info": {
   "codemirror_mode": {
    "name": "ipython",
    "version": 3
   },
   "file_extension": ".py",
   "mimetype": "text/x-python",
   "name": "python",
   "nbconvert_exporter": "python",
   "pygments_lexer": "ipython3",
   "version": "3.8.16"
  }
 },
 "nbformat": 4,
 "nbformat_minor": 5
}
