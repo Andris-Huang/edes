{
 "cells": [
  {
   "cell_type": "code",
   "execution_count": 6,
   "id": "2c3962f3-d7a2-44c2-abb2-271aa6140da7",
   "metadata": {},
   "outputs": [],
   "source": [
    "import numpy as np "
   ]
  },
  {
   "cell_type": "code",
   "execution_count": 9,
   "id": "8093b48c-d7a8-421c-888d-bdf23d1e9ece",
   "metadata": {},
   "outputs": [],
   "source": [
    "Smag, Sang = 0.988, -20"
   ]
  },
  {
   "cell_type": "code",
   "execution_count": 10,
   "id": "8a383723-e4f7-4f99-9343-a7bd48eb05eb",
   "metadata": {},
   "outputs": [],
   "source": [
    "Z = lambda S11: (1+S11)/(1-S11)*50 "
   ]
  },
  {
   "cell_type": "code",
   "execution_count": 11,
   "id": "b72a9c42-91e8-408a-a7bd-2fe1b54e1a42",
   "metadata": {},
   "outputs": [
    {
     "data": {
      "text/plain": [
       "(9.997369796016393-283.22185012634947j)"
      ]
     },
     "execution_count": 11,
     "metadata": {},
     "output_type": "execute_result"
    }
   ],
   "source": [
    "Z(Smag*np.exp(1j*Sang/180*np.pi))"
   ]
  },
  {
   "cell_type": "code",
   "execution_count": 14,
   "id": "727d3058-3909-49e6-939f-762711a78dbd",
   "metadata": {},
   "outputs": [
    {
     "data": {
      "text/plain": [
       "247.5172710190131"
      ]
     },
     "execution_count": 14,
     "metadata": {},
     "output_type": "execute_result"
    }
   ],
   "source": [
    "10**(1/20)*220.6"
   ]
  },
  {
   "cell_type": "code",
   "execution_count": 9,
   "id": "9f7d2ced-0396-4883-9520-55ecf3769e2b",
   "metadata": {},
   "outputs": [
    {
     "data": {
      "text/plain": [
       "0.5647219686465437"
      ]
     },
     "execution_count": 9,
     "metadata": {},
     "output_type": "execute_result"
    }
   ],
   "source": [
    "2+20*np.log10(187/220.6)"
   ]
  }
 ],
 "metadata": {
  "kernelspec": {
   "display_name": "Electron",
   "language": "python",
   "name": "e"
  },
  "language_info": {
   "codemirror_mode": {
    "name": "ipython",
    "version": 3
   },
   "file_extension": ".py",
   "mimetype": "text/x-python",
   "name": "python",
   "nbconvert_exporter": "python",
   "pygments_lexer": "ipython3",
   "version": "3.8.16"
  }
 },
 "nbformat": 4,
 "nbformat_minor": 5
}
