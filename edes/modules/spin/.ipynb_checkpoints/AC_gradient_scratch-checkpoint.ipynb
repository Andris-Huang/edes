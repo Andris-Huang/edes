{
 "cells": [
  {
   "cell_type": "code",
   "execution_count": 14,
   "id": "536fe900-c524-42fc-9df0-1eccb3905fad",
   "metadata": {},
   "outputs": [],
   "source": [
    "import matplotlib.pyplot as plt \n",
    "import numpy as np \n",
    "from edes.modules.detection.detection_utils import plot, plot_ax, plot_ax_errbar, plot_errbar\n",
    "from scipy.constants import e, m_e, k, c"
   ]
  },
  {
   "cell_type": "code",
   "execution_count": 13,
   "id": "7288b3f4-4f06-450e-996f-a2f365e9e469",
   "metadata": {},
   "outputs": [
    {
     "name": "stdout",
     "output_type": "stream",
     "text": [
      "Cyclotron frequency f_c  = 20.0 GHz\n",
      "Derived magnetic field B  = 0.71 T\n",
      "Cyclotron radius r_c      = 0.98 um\n",
      "Drift velocity v_d        = 7.698e+02 m/s\n",
      "Magnetron radius r_m      = 0.01 um\n"
     ]
    }
   ],
   "source": [
    "## Cyclotron radius \n",
    "# Given parameters\n",
    "f_c     = 20e9         # cyclotron frequency [Hz]\n",
    "T = 1000\n",
    "v_perp  = np.sqrt(k*T/m_e)          # perpendicular speed [m/s] (example)\n",
    "E_field = 0.55*1e3 # electric field [V/m] (example)\n",
    "\n",
    "# Derived quantities\n",
    "omega_c = 2 * np.pi * f_c\n",
    "B_field = (m_e * omega_c) / e\n",
    "\n",
    "# Radii calculations\n",
    "r_cyclotron = (m_e * v_perp) / (e * B_field)\n",
    "v_drift     = E_field / B_field\n",
    "r_magnetron = v_drift / omega_c\n",
    "\n",
    "# Display results\n",
    "print(f\"Cyclotron frequency f_c  = {f_c/1e9:.1f} GHz\")\n",
    "print(f\"Derived magnetic field B  = {B_field:.2f} T\")\n",
    "print(f\"Cyclotron radius r_c      = {r_cyclotron*1e6:.2f} um\")\n",
    "print(f\"Drift velocity v_d        = {v_drift:.3e} m/s\")\n",
    "print(f\"Magnetron radius r_m      = {r_magnetron*1e6:.2f} um\")"
   ]
  },
  {
   "cell_type": "code",
   "execution_count": 18,
   "id": "cd99b2dd-4725-4223-8efb-010f423aa505",
   "metadata": {},
   "outputs": [
    {
     "data": {
      "text/plain": [
       "1.2906176805324885"
      ]
     },
     "execution_count": 18,
     "metadata": {},
     "output_type": "execute_result"
    }
   ],
   "source": [
    "eps = 3.747 \n",
    "f0 = 30e6\n",
    "c/np.sqrt(eps)/f0/4"
   ]
  },
  {
   "cell_type": "code",
   "execution_count": null,
   "id": "7a916970-2797-45cb-90cd-3cd77ac269d4",
   "metadata": {},
   "outputs": [],
   "source": []
  }
 ],
 "metadata": {
  "kernelspec": {
   "display_name": "QC",
   "language": "python",
   "name": "qc"
  },
  "language_info": {
   "codemirror_mode": {
    "name": "ipython",
    "version": 3
   },
   "file_extension": ".py",
   "mimetype": "text/x-python",
   "name": "python",
   "nbconvert_exporter": "python",
   "pygments_lexer": "ipython3",
   "version": "3.8.18"
  }
 },
 "nbformat": 4,
 "nbformat_minor": 5
}
