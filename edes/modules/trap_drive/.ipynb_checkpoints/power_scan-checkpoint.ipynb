{
 "cells": [
  {
   "cell_type": "code",
   "execution_count": 1,
   "id": "3a991f62-eb26-4b46-9d6f-a8f37ad7574c",
   "metadata": {},
   "outputs": [],
   "source": [
    "from qcodes_contrib_drivers.drivers.Valon.Valon_5015 import Valon5015\n",
    "import time\n",
    "import numpy as np\n",
    "from tqdm import trange, tqdm"
   ]
  },
  {
   "cell_type": "code",
   "execution_count": 2,
   "id": "da5f69bb-ff4e-409c-ab1b-ef5df04893e7",
   "metadata": {},
   "outputs": [
    {
     "name": "stdout",
     "output_type": "stream",
     "text": [
      "-->amf 1\n",
      "AMF 0.001 kHz\n",
      "-->pdn 1\n",
      "PDN 1;\n",
      "-->oen 0\n",
      "OEN 0;\n",
      "-->stat\n",
      "Valon Technology, 5019, 12202687, R5  version 1.2c   Build: Aug  8 2022  01:10:47\n",
      "      VBAT = 1357   6.559 V\n",
      "      UPTS = 1733    20.4 C\n",
      "   PA TEMP = 1049    22.7 C\n",
      "       +5V = 3061   4.932 V\n",
      "       -5V = 1491  -5.116 V\n"
     ]
    }
   ],
   "source": [
    "addr = 'ASRL/dev/ttyUSB0::INSTR'\n",
    "valon = Valon5015(name=\"Valon\", address=addr)\n",
    "valon.frequency(1452e6)\n",
    "valon.offset(0)\n",
    "valon.power(0)\n",
    "valon.modulation_db(0)\n",
    "valon.modulation_frequency(1)\n",
    "valon.low_power_mode_enabled(True)\n",
    "valon.buffer_amplifiers_enabled(False)\n",
    "status = valon.status()\n",
    "print(status)"
   ]
  },
  {
   "cell_type": "code",
   "execution_count": 3,
   "id": "738e9ef0-6c75-4b92-a7d3-1e0c7677d402",
   "metadata": {},
   "outputs": [],
   "source": [
    "ON = 0\n",
    "valon.buffer_amplifiers_enabled(bool(ON))"
   ]
  },
  {
   "cell_type": "code",
   "execution_count": null,
   "id": "2010a13a-99e1-4811-9667-5648e61c0840",
   "metadata": {},
   "outputs": [],
   "source": [
    "Pin = 0\n",
    "valon.power(Pin)"
   ]
  },
  {
   "cell_type": "code",
   "execution_count": 49,
   "id": "8b177ea0-af5c-4639-b0b3-e3afb5ca5f4f",
   "metadata": {},
   "outputs": [
    {
     "name": "stderr",
     "output_type": "stream",
     "text": [
      "100%|███████████████████████| 40/40 [00:04<00:00,  9.71it/s, RF Power (dBm)=5.9]\n"
     ]
    }
   ],
   "source": [
    "scan_min = 2 \n",
    "scan_max = 6 \n",
    "scan_stp = 0.1\n",
    "\n",
    "bar = tqdm(np.arange(scan_min, scan_max, scan_stp))\n",
    "var = {'RF Power (dBm)': scan_min}\n",
    "for p in bar:\n",
    "    valon.power(p)\n",
    "    var['RF Power (dBm)'] = p\n",
    "    bar.set_postfix(var)\n",
    "    time.sleep(0.1)"
   ]
  },
  {
   "cell_type": "code",
   "execution_count": null,
   "id": "7d071aff-4611-483a-b24a-5cc441084919",
   "metadata": {},
   "outputs": [],
   "source": [
    "def "
   ]
  }
 ],
 "metadata": {
  "kernelspec": {
   "display_name": "artiq",
   "language": "python",
   "name": "artiq"
  },
  "language_info": {
   "codemirror_mode": {
    "name": "ipython",
    "version": 3
   },
   "file_extension": ".py",
   "mimetype": "text/x-python",
   "name": "python",
   "nbconvert_exporter": "python",
   "pygments_lexer": "ipython3",
   "version": "3.11.13"
  }
 },
 "nbformat": 4,
 "nbformat_minor": 5
}
