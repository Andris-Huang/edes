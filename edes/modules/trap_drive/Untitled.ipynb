{
 "cells": [
  {
   "cell_type": "code",
   "execution_count": 1,
   "id": "c67745d9-ea52-4a63-9124-22af6df67ac3",
   "metadata": {},
   "outputs": [
    {
     "name": "stdout",
     "output_type": "stream",
     "text": [
      "Bad instrument list ('ASRL/dev/ttyS4::INSTR', 'ASRL/dev/ttyS31::INSTR', 'ASRL/dev/ttyS30::INSTR', 'ASRL/dev/ttyS29::INSTR', 'ASRL/dev/ttyS28::INSTR', 'ASRL/dev/ttyS27::INSTR', 'ASRL/dev/ttyS26::INSTR', 'ASRL/dev/ttyS25::INSTR', 'ASRL/dev/ttyS24::INSTR', 'ASRL/dev/ttyS23::INSTR', 'ASRL/dev/ttyS22::INSTR', 'ASRL/dev/ttyS21::INSTR', 'ASRL/dev/ttyS20::INSTR', 'ASRL/dev/ttyS19::INSTR', 'ASRL/dev/ttyS18::INSTR', 'ASRL/dev/ttyS17::INSTR', 'ASRL/dev/ttyS16::INSTR', 'ASRL/dev/ttyS15::INSTR', 'ASRL/dev/ttyS14::INSTR', 'ASRL/dev/ttyS13::INSTR', 'ASRL/dev/ttyS12::INSTR', 'ASRL/dev/ttyS11::INSTR', 'ASRL/dev/ttyS10::INSTR', 'ASRL/dev/ttyS9::INSTR', 'ASRL/dev/ttyS8::INSTR', 'ASRL/dev/ttyS7::INSTR', 'ASRL/dev/ttyS6::INSTR', 'ASRL/dev/ttyS5::INSTR', 'ASRL/dev/ttyS3::INSTR', 'ASRL/dev/ttyS2::INSTR', 'ASRL/dev/ttyS1::INSTR', 'ASRL/dev/ttyS0::INSTR', 'ASRL/dev/ttyUSB0::INSTR', 'USB0::6833::3601::DP8B260200018::0::INSTR', 'TCPIP::192.168.169.115::INSTR', 'TCPIP::192.168.169.117::INSTR', 'TCPIP::192.168.169.121::INSTR', 'TCPIP::192.168.169.122::INSTR', 'TCPIP::192.168.169.182::INSTR')\n"
     ]
    },
    {
     "ename": "SystemExit",
     "evalue": "-1",
     "output_type": "error",
     "traceback": [
      "An exception has occurred, use %tb to see the full traceback.\n",
      "\u001b[0;31mSystemExit\u001b[0m\u001b[0;31m:\u001b[0m -1\n"
     ]
    },
    {
     "name": "stderr",
     "output_type": "stream",
     "text": [
      "/home/electron/miniconda3/envs/artiq/lib/python3.8/site-packages/IPython/core/interactiveshell.py:3516: UserWarning: To exit: use 'exit', 'quit', or Ctrl-D.\n",
      "  warn(\"To exit: use 'exit', 'quit', or Ctrl-D.\", stacklevel=1)\n"
     ]
    }
   ],
   "source": [
    "import os\n",
    "import numpy as np\n",
    "import matplotlib.pyplot as plt\n",
    "%matplotlib inline\n",
    "# import oskar\n",
    "# scripts = oskar.Scripts()\n",
    "import numpy as np\n",
    "from tqdm import tqdm\n",
    "import numpy\n",
    "import matplotlib.pyplot as plot\n",
    "import sys\n",
    "import pickle as pkl\n",
    "# import pyvisa as visa\n",
    "import pyvisa as visa\n",
    "import datetime\n",
    "from scipy.optimize import curve_fit\n",
    "\n",
    "from collections import defaultdict\n",
    "from scipy.stats import kurtosis, skew\n",
    "import pandas as pd\n",
    "# import xarray as xr\n",
    "from collections import OrderedDict\n",
    "from pathlib import Path\n",
    "import fnmatch\n",
    "import time\n",
    "rm = visa.ResourceManager()\n",
    "instruments = rm.list_resources()\n",
    "# instruments\n",
    "usb = list(filter(lambda x: 'USB' in x, instruments))\n",
    "if len(usb) != 1:\n",
    "    print('Bad instrument list', instruments)\n",
    "    sys.exit(-1)\n",
    "keithley = rm.open_resource(usb[0])"
   ]
  },
  {
   "cell_type": "code",
   "execution_count": 2,
   "id": "f3c9c67b-2b08-4443-8f2f-534308a19a99",
   "metadata": {},
   "outputs": [
    {
     "data": {
      "text/plain": [
       "['ASRL/dev/ttyUSB0::INSTR', 'USB0::6833::3601::DP8B260200018::0::INSTR']"
      ]
     },
     "execution_count": 2,
     "metadata": {},
     "output_type": "execute_result"
    }
   ],
   "source": [
    "usb"
   ]
  },
  {
   "cell_type": "code",
   "execution_count": null,
   "id": "f08d2660-23a7-41ad-9c46-0b364926721d",
   "metadata": {},
   "outputs": [],
   "source": []
  }
 ],
 "metadata": {
  "kernelspec": {
   "display_name": "artiq",
   "language": "python",
   "name": "artiq"
  },
  "language_info": {
   "codemirror_mode": {
    "name": "ipython",
    "version": 3
   },
   "file_extension": ".py",
   "mimetype": "text/x-python",
   "name": "python",
   "nbconvert_exporter": "python",
   "pygments_lexer": "ipython3",
   "version": "3.8.20"
  }
 },
 "nbformat": 4,
 "nbformat_minor": 5
}
