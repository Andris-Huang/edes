{
 "cells": [
  {
   "cell_type": "code",
   "execution_count": 1,
   "id": "83cd5c6a-fdcf-4a57-9341-2e0afd279eb3",
   "metadata": {},
   "outputs": [],
   "source": [
    "import matplotlib.pyplot as plt\n",
    "import numpy as np\n",
    "import pandas as pd\n",
    "from scipy.optimize import curve_fit\n",
    "import scipy.constants as spc"
   ]
  },
  {
   "cell_type": "code",
   "execution_count": 2,
   "id": "1a340e5d-61a9-4739-aa6a-e3caf3cbd510",
   "metadata": {},
   "outputs": [],
   "source": [
    "########## Plotting functions for laziness ##########\n",
    "plt.rcParams['font.size'] = 13.5\n",
    "\n",
    "def plot(x, y, *args, xlabel=None, ylabel=None, title=None, **kwargs):\n",
    "    plt.plot(x, y, *args, **kwargs)\n",
    "    plt.grid(True)\n",
    "    plt.xlabel(xlabel)\n",
    "    plt.ylabel(ylabel)\n",
    "    plt.title(title)\n",
    "\n",
    "def plot_ax(ax, x, y, *args, xlabel=None, ylabel=None, title=None, **kwargs):\n",
    "    ax.plot(x, y, *args, **kwargs)\n",
    "    ax.grid(True)\n",
    "    ax.set_xlabel(xlabel)\n",
    "    ax.set_ylabel(ylabel)\n",
    "    ax.set_title(title)"
   ]
  },
  {
   "cell_type": "markdown",
   "id": "ce5206a0-fe5d-4094-bd7e-a3a7bafdee9b",
   "metadata": {},
   "source": [
    "## Meander"
   ]
  },
  {
   "cell_type": "markdown",
   "id": "6482611d-d022-4053-a355-b936bce4c159",
   "metadata": {},
   "source": [
    "Quarter-wave line length\n",
    "$$l = \\frac{\\lambda}{4}=\\frac{c}{4f\\sqrt{\\epsilon}} = \\frac{37.5}{\\sqrt{\\epsilon}}\\approx 16.75 \\text{ mm}$$"
   ]
  },
  {
   "cell_type": "code",
   "execution_count": 3,
   "id": "4d2c5d02-51d4-4fdb-ac67-bac49feda1fc",
   "metadata": {},
   "outputs": [
    {
     "data": {
      "text/plain": [
       "19.22378575164986"
      ]
     },
     "execution_count": 3,
     "metadata": {},
     "output_type": "execute_result"
    }
   ],
   "source": [
    "f = 2e9  # frequency in Hz\n",
    "eps = 3.8  # relative permitivity of substrate (fused silica)\n",
    "c = spc.c  # speed of light\n",
    "v = c/np.sqrt(eps)  # velocity of wave in the media\n",
    "lam = v/f  # wavelength in m \n",
    "l4 = lam/4  # length of quarter-wave line in m \n",
    "\n",
    "l4*1e3  # length in mm"
   ]
  },
  {
   "cell_type": "markdown",
   "id": "bbf96014-1c2b-41f7-8b54-d3a3f0036abb",
   "metadata": {},
   "source": [
    "General T-line equation\n",
    "$$ Z_{in}(-l) = Z_0\\frac{Z_L+jZ_0\\tan(\\beta l)}{Z_0+jZ_L\\tan(\\beta l)} $$\n",
    "Shorted T-line input impedance \n",
    "$$Z_{in}(-l) = jZ_0\\tan(\\beta l)$$\n",
    "$l$ is the length measured from the load, $Z_0$ is the char. impedance, $\\beta = 2\\pi/\\lambda=\\omega/v$ is called the electrical length."
   ]
  },
  {
   "cell_type": "code",
   "execution_count": 19,
   "id": "277e735b-10fc-43b8-904c-47644378f712",
   "metadata": {},
   "outputs": [
    {
     "name": "stderr",
     "output_type": "stream",
     "text": [
      "No artists with labels found to put in legend.  Note that artists whose label start with an underscore are ignored when legend() is called with no argument.\n"
     ]
    },
    {
     "data": {
      "image/png": "[encoded data removed]",
      "text/plain": [
       "<Figure size 640x480 with 1 Axes>"
      ]
     },
     "metadata": {},
     "output_type": "display_data"
    }
   ],
   "source": [
    "beta = 2*np.pi/lam \n",
    "Z0_4 = 100  # char. impedance of the quarter line\n",
    "Z0 = 50  # char. impedance of the feedline\n",
    "C = 0.4e-12\n",
    "Zc = 1/(1j*beta*v*C)\n",
    "l = np.linspace(0, l4*0.9, 1000000)\n",
    "Zin = 1j*Z0_4*np.tan(beta*l)  # input impedance at a given location l\n",
    "\n",
    "plot(l/l4, np.tan(beta*l))# abs(Zin), xlabel=r'$l$ ($\\times L$)', ylabel=r'$|Z_{in}-Z_c|$')\n",
    "i_min = np.argmin(abs(Zin-Zc))\n",
    "#plt.plot(l[i_min]/l4, abs(Zin-Zc)[i_min], 'o', label=f'$l$ = {l[i_min]*1e3:.3f} mm')\n",
    "plt.legend()\n",
    "plt.show()"
   ]
  },
  {
   "cell_type": "code",
   "execution_count": 20,
   "id": "9e766c65-64e0-4c20-9282-94988c12c14c",
   "metadata": {},
   "outputs": [
    {
     "data": {
      "text/plain": [
       "7.0710678118654755"
      ]
     },
     "execution_count": 20,
     "metadata": {},
     "output_type": "execute_result"
    }
   ],
   "source": [
    "np.sqrt(50)"
   ]
  },
  {
   "cell_type": "markdown",
   "id": "1baee574-aad2-430a-bc1a-4db725527b42",
   "metadata": {},
   "source": [
    "## Spiral"
   ]
  },
  {
   "cell_type": "code",
   "execution_count": 2,
   "id": "81c8d338-35d9-40ec-9848-32d2ff02fb1d",
   "metadata": {},
   "outputs": [],
   "source": [
    "def calc_spiral_len(W, N, D_gap):\n",
    "    L = 0\n",
    "    l = D_gap*2 + 2*W \n",
    "    lm = W + D_gap\n",
    "    for i in range(1, N+1):\n",
    "        L += l*i*4 - lm\n",
    "        print(l*i)\n",
    "    return L"
   ]
  },
  {
   "cell_type": "code",
   "execution_count": null,
   "id": "0ed0afbe-4d62-4177-9b70-e1bbbfee6370",
   "metadata": {},
   "outputs": [],
   "source": []
  }
 ],
 "metadata": {
  "kernelspec": {
   "display_name": "artiq",
   "language": "python",
   "name": "artiq"
  },
  "language_info": {
   "codemirror_mode": {
    "name": "ipython",
    "version": 3
   },
   "file_extension": ".py",
   "mimetype": "text/x-python",
   "name": "python",
   "nbconvert_exporter": "python",
   "pygments_lexer": "ipython3",
   "version": "3.8.20"
  }
 },
 "nbformat": 4,
 "nbformat_minor": 5
}
