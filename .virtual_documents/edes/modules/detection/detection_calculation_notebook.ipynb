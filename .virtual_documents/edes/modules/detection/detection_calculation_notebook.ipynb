import numpy as np
import matplotlib.pyplot as plt
import scipy.constants as constants





hbar = constants.hbar
kB = constants.k
u = constants.m_u
mu_0 = constants.mu_0
m = constants.m_e
q = constants.e

















def le(d_eff,n=1):
    return m*d_eff**2/q**2/n
def tau(d_eff, ReZ,n=1):
    ## electron cooling time constant
    return le(d_eff,n)/ReZ
def width_e(tau):
    ## electron signal width
    # t = tau(d_eff=d_eff, ReZ=ReZ,n=n)
    return 1/tau/2/np.pi
def Inductance(omega, C):
    return 1/omega**2/C
def Capacitance(omega, L):
    return 1/omega**2/L
def Reff(Q, omega, C):
    # effective resistance of parallel RLC circuit
    return Q/omega/C
def width_circuit(omega,Q):
    return omega/Q


omega_y = 2*np.pi*70e6
def extent(omega_y):
    ### ground state wave packet size
    y0 = np.sqrt(hbar/(2*m*omega_y))
    return y0
extent(omega_y)





d_eff =0.85e-3#
# ReZ = 70e3
C = 10E-12 # ctrap 0.4 pF
# L = 500e-9 # 500 nH tank circuit
omega = 2*np.pi*70E6
Q = 500
ne = 1


# C = Capacitance(omega = omega, L = L)
# print("Capacitance = {:.2f}".format(C*1E12)+" pF")

L = Inductance(omega = omega, C = C)
print("Inductance = {:.2f}".format(L*1E9)+" nH")

ReZ = Reff(Q = Q, omega = omega, C = C)
print("Resistance = {:.2f}".format(ReZ*1E-3)+" kOhm")

te = tau(d_eff = d_eff, ReZ = Reff(Q = Q, omega = omega, C = C),n=ne)
print("Cooling time = {:.2f}".format(te*1e3)+" ms")
gamma_e = width_e(tau=te)
print(r"Signal width = 2pi * {:.3f}".format(gamma_e*1e-3)+" kHz")
gamma_t = width_circuit(omega=omega,Q=Q)
print(r"Circuit width = 2pi * {:.2f}".format(gamma_t*1e-3/2/np.pi)+" kHz")








d_eff =6.6e-3#
# ReZ = 70e3
C = 1.4E-12 # ctrap 0.4 pF
# L = 500e-9 # 500 nH tank circuit
omega = 2*np.pi*250E6
Q = 800
ne = 1


# C = Capacitance(omega = omega, L = L)
# print("Capacitance = {:.2f}".format(C*1E12)+" pF")

L = Inductance(omega = omega, C = C)
print("Inductance = {:.2f}".format(L*1E9)+" nH")

ReZ = Reff(Q = Q, omega = omega, C = C)
print("Resistance = {:.2f}".format(ReZ*1E-3)+" kOhm")

te = tau(d_eff = d_eff, ReZ = Reff(Q = Q, omega = omega, C = C),n=ne)
print("Cooling time = {:.2f}".format(te*1e3)+" ms")
gamma_e = width_e(tau=te)
print(r"Signal width = 2pi * {:.4f}".format(gamma_e*1e-3)+" kHz")
gamma_t = width_circuit(omega=omega,Q=Q)
print(r"Circuit width = 2pi * {:.2f}".format(gamma_t*1e-3/2/np.pi)+" kHz")


13/250e6





def Z_RC(R,C,omega,T):
    return 4*kB*T*R/(1+R**2*omega**2*C**2)


C = 1e-9
T = 300
Rs = [1,10,100,1000,10000]
omegas = 2*np.pi*np.logspace(0,7,1000)

for R in Rs:
    plt.plot(omegas/2/np.pi/1e6, Z_RC(R,C,omegas,T),label = 'R = {:d} Ohm'.format(R))
plt.axvspan(3, 5, color="yellow", alpha=0.4, label=f'Center 4 MHz')
plt.yscale('log')
plt.title('C = 1nF, T = 300K')
plt.xlabel('Frequency (MHz)')
plt.ylabel(r'$\overline{v^2}$')
plt.grid()
# plt.xscale('log')
plt.legend()


def Z_R(R,omega,T):
    return 4*hbar*omega*R*(1/(np.exp(hbar*omega/kB/T)-1)+1/2)


Ts = [3,300,3000]
# Rs = [10,100,1000]
R = 1000
omegas = 2*np.pi*np.logspace(0,15,1000)

for T in Ts:
    plt.plot(omegas/2/np.pi/1e9, Z_R(R,omegas,T),label = 'T = {:d} K'.format(T))
# plt.axvspan(3, 5, color="yellow", alpha=0.4, label=f'Center 4 MHz')
plt.yscale('log')
plt.xscale('log')
plt.title('R = 1000 Ohm')
plt.xlabel('Frequency (GHz)')
plt.ylabel(r'$\overline{v^2}$')
# plt.xscale('log')
plt.grid()
plt.legend()
