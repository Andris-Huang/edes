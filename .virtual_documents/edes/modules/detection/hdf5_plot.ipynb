import numpy as np
import matplotlib.pyplot as plt
from edes.utils.plotting import plot, plot_ax
plt.rcParams.update({'font.size': 14,
                         'lines.markersize': 12,
                         'lines.linewidth': 2.5,
                         'xtick.labelsize': 15,
                         'ytick.labelsize': 15,
                         'errorbar.capsize': 2})


import h5py

# Function to read HDF5 file and plot data
def read_and_plot_hdf5(file_path):
    # Open the HDF5 file
    with h5py.File(file_path, 'r') as file:
        # Print the structure of the HDF5 file
        print("HDF5 file structure:")
        file.visit(print)  # This will list all groups and datasets

        # Assuming you want to plot a dataset (adjust accordingly)
        dataset_name = list(file.keys())[0]  # Take the first dataset in the file
        print(f"\nReading dataset: {dataset_name}")
        
        # Extract the dataset (assuming it contains numerical data)
        dataset = file[dataset_name]
        data = np.array(dataset)
        
        # Plotting the data
        plt.figure(figsize=(8, 6))
        plt.plot(data)
        plt.title(f"Plot of dataset: {dataset_name}")
        plt.xlabel('Index')
        plt.ylabel('Value')
        plt.grid(True)
        plt.show()

# Example usage
file_path = 'your_file.hdf5'  # Replace with your HDF5 file path
read_and_plot_hdf5(file_path)




