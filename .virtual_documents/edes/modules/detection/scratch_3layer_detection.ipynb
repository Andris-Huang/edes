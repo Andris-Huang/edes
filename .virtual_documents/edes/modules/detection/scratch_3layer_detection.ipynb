import numpy as np
import matplotlib.pyplot as plt
import detection_utils as utils
from detection_utils import e, m, kB 
from detection_utils import plot, plot_ax, plot_errbar, plot_power_spectrum
from detection_utils import W_to_dBm, dBm_to_W, dB_to_frac, frac_to_dB, voltage_noise_to_dBm
from detection_utils import find_width, moving_avg
from detection_utils import Component, DetectionSetup
from detection_utils import BandPassFilter, SpectrumAnalyzer, Amplifier
from detection_utils import HarmonicElectron, TankCircuit
from detection_utils import HarmonicElectronCoupledTank, ElectronCoupledToTank
from detection_utils import AnharmonicElectronSetup


fz = 200e6


ele = HarmonicElectron(n=1, d=1e-3, omega=2*np.pi*fz)


le, ce = ele.get_lc() 
le, ce


Qe = 1000
Ctrap = 4e-12
Ceff = utils.parallel(Ctrap, ce)
ze = 1/Qe * np.sqrt(le/Ceff)
print(f'{ze:.2e}')


le, Ceff, ze


tank = TankCircuit(Q=200,Z0=300,omega_0=2*np.pi*200e6,T=300)


tank.get_RLC()


np.sqrt(150e-9/4e-12)


s = 1j*2*np.pi*180e6 
s*le + 1/s/ce + ze


36e3*m*(200e-6)**2/e**2


1/24e-3


omega = 2*np.pi*200e6
Ct = 2.5e-12
Lt = 1/omega**2/2.5e-12 
Zr = 200 * np.sqrt(Lt/Ct)


np.sqrt(44.43e-6/0.0178e-12)


etank = ElectronCoupledToTank(ele, tank)


etank.get_coupling_freq()


ele.get_I(A=150e-6)


ele.get_I(T=3000)
