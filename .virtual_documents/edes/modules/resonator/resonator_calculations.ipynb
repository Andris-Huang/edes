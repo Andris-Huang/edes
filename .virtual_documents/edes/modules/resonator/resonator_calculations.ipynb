import matplotlib.pyplot as plt
import numpy as np
import pandas as pd
from scipy.optimize import curve_fit
import scipy.constants as spc


########## Plotting functions for laziness ##########
plt.rcParams['font.size'] = 13.5

def plot(x, y, *args, xlabel=None, ylabel=None, title=None, **kwargs):
    plt.plot(x, y, *args, **kwargs)
    plt.grid(True)
    plt.xlabel(xlabel)
    plt.ylabel(ylabel)
    plt.title(title)

def plot_ax(ax, x, y, *args, xlabel=None, ylabel=None, title=None, **kwargs):
    ax.plot(x, y, *args, **kwargs)
    ax.grid(True)
    ax.set_xlabel(xlabel)
    ax.set_ylabel(ylabel)
    ax.set_title(title)








f = 2e9  # frequency in Hz
eps = 3.8  # relative permitivity of substrate (fused silica)
c = spc.c  # speed of light
v = c/np.sqrt(eps)  # velocity of wave in the media
lam = v/f  # wavelength in m 
l4 = lam/4  # length of quarter-wave line in m 

l4*1e3  # length in mm





beta = 2*np.pi/lam 
Z0_4 = 100  # char. impedance of the quarter line
Z0 = 50  # char. impedance of the feedline
C = 0.4e-12
Zc = 1/(1j*beta*v*C)
l = np.linspace(0, l4*0.9, 1000000)
Zin = 1j*Z0_4*np.tan(beta*l)  # input impedance at a given location l

plot(l/l4, np.tan(beta*l))# abs(Zin), xlabel=r'$l$ ($\times L$)', ylabel=r'$|Z_{in}-Z_c|$')
i_min = np.argmin(abs(Zin-Zc))
#plt.plot(l[i_min]/l4, abs(Zin-Zc)[i_min], 'o', label=f'$l$ = {l[i_min]*1e3:.3f} mm')
plt.legend()
plt.show()


np.sqrt(50)





def calc_spiral_len(W, N, D_gap):
    L = 0
    l = D_gap*2 + 2*W 
    lm = W + D_gap
    for i in range(1, N+1):
        L += l*i*4 - lm
        print(l*i)
    return L



