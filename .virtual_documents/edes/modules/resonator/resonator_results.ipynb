import matplotlib.pyplot as plt
import numpy as np
import pandas as pd
from scipy.optimize import curve_fit
import scipy.constants as spc





base = "e:\\ansys\\resonator_v1"


def plot(x, y, *args, xlabel=None, ylabel=None, title=None, **kwargs):
    plt.plot(x, y, *args, **kwargs)
    plt.grid(True)
    plt.xlabel(xlabel)
    plt.ylabel(ylabel)
    plt.title(title)

def plot_ax(ax, x, y, *args, xlabel=None, ylabel=None, title=None, **kwargs):
    ax.plot(x, y, *args, **kwargs)
    ax.grid(True)
    ax.set_xlabel(xlabel)
    ax.set_ylabel(ylabel)
    ax.set_title(title)

def read_S21(file):
    df = pd.read_csv(f'{base}/{file}.csv')
    try:
        return np.array(df['Freq [GHz]']), np.array(df['dB(St(feedline1_T2,feedline1_T1)) []'])
    except KeyError:
        try:
            return np.array(df['Freq [GHz]']), np.array(df['dB(St(feedline_T2,feedline_T1)) []'])
        except KeyError:
            return np.array(df['Freq [GHz]']), np.array(df['dB(St(feedline_T1,feedline_T1)) []'])

def read_S11(file):
    df = pd.read_csv(f'{base}/{file}.csv')
    try:
        return np.array(df['Freq [GHz]']), np.array(df['dB(St(feedline1_T1,feedline1_T1)) []'])
    except KeyError:
        if 'dB(St(feedline_T1,feedline_T1)) []' in df:
            return np.array(df['Freq [GHz]']), np.array(df['dB(St(feedline_T1,feedline_T1)) []'])
        else: 
            return read_S21(file) 


def S21_mag_old(f, f0, Qi, Qc):
    return abs(1- (get_Q(Qi, Qc)/Qc)/(1+2j*get_Q(Qi,Qc)*(f-f0)/f0))
    #return 1 - h*(w/2)/np.pi / ((w/2)**2 + (f-f0)**2)

def S21_mag(f, f0, Q, Qc, a, alpha, t, phi):
    if Q > Qc or Q < 0 or Qc < 0:
        return 1e6
    return abs( a*np.exp(1j*alpha-2*np.pi*1j*f*t)*(1- (Q/Qc)*np.exp(1j*phi)/(1+2j*Q*(f-f0)/f0)) )
    #return 1 - h*(w/2)/np.pi / ((w/2)**2 + (f-f0)**2)

def S11_mag(f, f0, Q, Qc, a, alpha, t, phi):
    if Q > Qc or Q < 0 or Qc < 0:
        return 1e6
    return abs( a*np.exp(1j*alpha-2*np.pi*1j*f*t)*(1- 2*(Q/Qc)*np.exp(1j*phi)/(1+2j*Q*(f-f0)/f0)) )

def S21_mag_noguchi(f, f0, kin, kex, a, phi):
    if kin < 0 or kex < 0: 
        return 1e6
    return abs( a*(1-kex*np.exp(1j*phi) / (1j*(f-f0) + (kin+kex)/2)))
    
def cutoff_x0(x, y, x0):
    ind = np.where(x < x0)
    return x[ind], y[ind]

def dB_to_percent(dB):
    return 10**(dB/20)

def percent_to_dB(per):
    return 20*np.log10(per)

def get_S11_fit(f, S_dB, f0=2):
    init = [f0, 20, 30, 1, 0, 0, 0.5] 
    param = curve_fit(S11_mag, f, dB_to_percent(S_dB), p0=init, maxfev=100000)[0]
    return param

def get_S21_fit(f, S_dB, f0=2):
    init = [f0, 20, 30, 1, 0, 0, 0.5] 
    param = curve_fit(S21_mag, f, dB_to_percent(S_dB), p0=init, maxfev=100000)[0]
    return param

def get_S21_fit_noguchi(f, S_dB):
    init = [2, 2/30, 2/30, 1, 0.5]
    param = curve_fit(S21_mag_noguchi, f, dB_to_percent(S_dB), p0=init, maxfev=100000)[0]
    return param

def get_Qi(Q, Qc):
    return 1 / (1/Q - 1/Qc)

def get_Q(Qi, Qc):
    return 1 / (1/Qi + 1/Qc)

def plot_S21(name, cutoff_freq=3, f0_guess=2): 
    f, S = cutoff_x0(*read_S21(name), cutoff_freq)

    f0, Q, Qc_mag, a, alpha, t, phi = get_S21_fit(f, S, f0=f0_guess)
    plot(f, S, '.', label='Ansys Simulation')
    
    ft = np.linspace(min(f), max(f), 500000)
    St = S21_mag(ft, f0, Q, Qc_mag, a, alpha, t, phi)
    St_dB = percent_to_dB(St)

    Qc = Qc_mag*np.exp(-1j*phi).real
    plot(ft, St_dB, '--', label=f'Fit, $f_0$ = {f0:.2f}GHz, \n$Q_i$ = {get_Qi(Q, Qc):.2f}, \n$Q_c$ = {Qc:.2f}, \n$Q$ = {Q:.2f}')

    id0 = np.where(ft < f0)[0][-1]
    idl, idr = np.argmin(abs(St_dB[:id0]-(max(St_dB)-3))), id0+np.argmin(abs(St_dB[id0:]-(max(St_dB)-3)))
    plot(ft[idl], St_dB[idl], 'gX')
    plot(ft[idr], St_dB[idr], 'gX', label=f'-3dB, $Q$ = {f0/abs(ft[idr]-ft[idl]):.2f}', xlabel='f (GHz)', ylabel='$|S_{21}|$ (dB)')
    plt.legend()

def plot_S11(name, cutoff_freq=3, f0_guess=2): 
    f, S = cutoff_x0(*read_S11(name), cutoff_freq)

    f0, Q, Qc_mag, a, alpha, t, phi = get_S11_fit(f, S, f0=f0_guess)
    plot(f, S, '.', label='Ansys Simulation')
    
    ft = np.linspace(min(f), max(f), 500000)
    St = S11_mag(ft, f0, Q, Qc_mag, a, alpha, t, phi)
    St_dB = percent_to_dB(St)

    Qc = Qc_mag*np.exp(-1j*phi).real
    plot(ft, St_dB, '--', label=f'Fit, $f_0$ = {f0:.2f}GHz, \n$Q_i$ = {get_Qi(Q, Qc):.2f}, \n$Q_c$ = {Qc:.2f}, \n$Q$ = {Q:.2f}')

    id0 = np.where(ft < f0)[0][-1]
    idl, idr = np.argmin(abs(St_dB[:id0]-(max(St_dB)-3))), id0+np.argmin(abs(St_dB[id0:]-(max(St_dB)-3)))
    plot(ft[idl], St_dB[idl], 'gX')
    plot(ft[idr], St_dB[idr], 'gX', label=f'-3dB, $Q$ = {f0/abs(ft[idr]-ft[idl]):.2f}', xlabel='f (GHz)', ylabel='$|S_{11}|$ (dB)')
    plt.legend()
    #plt.show()


dB_to_percent(-10)  # this is the max Q/Qi at -10dB


def remove_mm(data):
    data = np.array(data)
    data_rm = [i[:-2] for i in data]
    return np.array(data_rm, dtype=np.float64)





plot_S21('spiral_v1-0')


df = pd.read_csv(f'{base}/spiral_v1-0_Q_opt_1.csv')
D_gnd, D_gnd0, W_res_vert, Q, Dc = remove_mm(df['D_gnd']), remove_mm(df['D_gnd0']), remove_mm(df['W_spiral']), -np.array(df['Cost']), remove_mm(df['D_couple'])


idx = np.argmax(Q)
D_gnd[idx], D_gnd0[idx]+2*D_gnd[idx], W_res_vert[idx], Dc[idx]


df = pd.read_csv(f'{base}/spiral_v1-0_Q_opt_1.csv')
D_gnd, D_gnd0, W_res_vert, Q = remove_mm(df['D_gnd']), remove_mm(df['D_gnd0']), remove_mm(df['W_spiral']), -np.array(df['Cost'])


fig = plt.figure(figsize=(9,6))
ax = fig.add_subplot(projection='3d')

ax.scatter(D_gnd*1000, (2*D_gnd+D_gnd0)*1000, W_res_vert*1e3, '.', c=Q)
ax.set_xlabel('Distance to Ground (um)')
ax.set_ylabel('Gap between Turns (um)')
ax.set_zlabel('Trace Width (um)')
ax.set_box_aspect(aspect=None, zoom=0.8)
sm = plt.cm.ScalarMappable(cmap='viridis')
sm.set_array(Q)
cbar = plt.colorbar(sm, ax=ax, pad=0.05, shrink=0.6)
cbar.set_label('$Q_i$')
plt.tight_layout()
plt.show()


fig = plt.figure(figsize=(9,6))
ax = fig.add_subplot(projection='3d')

ax.scatter(D_gnd*1000, (2*D_gnd+D_gnd0)*1000, W_res_vert*1e3, '.', c=Q)
ax.set_xlabel('Distance to Ground (um)')
ax.set_ylabel('Gap between Turns (um)')
ax.set_zlabel('Trace Width (um)')
ax.set_box_aspect(aspect=None, zoom=0.8)
sm = plt.cm.ScalarMappable(cmap='viridis')
sm.set_array(Q)
cbar = plt.colorbar(sm, ax=ax, pad=0.05, shrink=0.6)
cbar.set_label('$Q$')
plt.tight_layout()
plt.show()


plot(df['Evaluation'], Q, xlabel='Trial Number', ylabel='$Q$')





plot_S21('spiral_v1-1', 3)


plot_S21('spiral_v1-1_tuneQc', 3)


df = pd.read_csv(f'{base}/spiral_v1-1_opt.csv')
D_gnd, D_gnd0, W_res_vert, dip, L_couple, D_couple = remove_mm(df['D_gnd']), remove_mm(df['D_gnd0']), remove_mm(df['W_spiral']), np.array(df['Cost']), remove_mm(df['L_extend']), remove_mm(df['D_couple'])


fig = plt.figure(figsize=(9,6))
ax = fig.add_subplot(projection='3d')

ax.scatter(D_gnd*1000, (2*D_gnd+D_gnd0)*1000, W_res_vert*1e3, '.', c=dip)
ax.set_xlabel('Distance to Ground (um)')
ax.set_ylabel('Gap between Turns (um)')
ax.set_zlabel('Trace Width (um)')
ax.set_box_aspect(aspect=None, zoom=0.8)
sm = plt.cm.ScalarMappable(cmap='viridis')
sm.set_array(dip)
cbar = plt.colorbar(sm, ax=ax, pad=0.05, shrink=0.6)
cbar.set_label('$\min(S_{21})$ (dB)')
plt.tight_layout()
plt.show()


fig = plt.figure(figsize=(7,6))
ax = fig.add_subplot()

ax.scatter(D_couple*1000, L_couple*1000, marker='.', c=dip)
ax.set_xlabel('Coupling distance (um)')
ax.set_ylabel('Length of straight edge (um)')
#ax.set_box_aspect(aspect=None, zoom=0.8)
sm = plt.cm.ScalarMappable(cmap='viridis')
sm.set_array(dip)
cbar = plt.colorbar(sm, ax=ax, pad=0.05, shrink=0.6)
cbar.set_label('$\min(S_{21})$ (dB)')
ax.grid()
plt.tight_layout()
plt.show()


df[df['Cost'] < -19]


import plotly.graph_objects as go 

def plot_parallel_coord(param_labels, param_values, objective_label, objective_values, 
                        colorscale='thermal', reverse_scale=False, width=1000, height=600):
    param_plot = [dict(label=param_labels[i], values=param_values[i]) for i in range(len(param_values))]
    for d in param_plot:
        d['visible'] = True
    fig = go.Figure(data=
                   go.Parcoords(
                       line=dict(color=objective_values, 
                                 colorscale=colorscale,
                                 colorbar={'title': objective_label},
                                 reversescale=reverse_scale,
                                 showscale=True),
                       dimensions=param_plot
                   ))
    fig.update_layout(width=width, height=height)
    fig.show()


df = pd.read_csv(f'{base}/spiral_v1-1_opt.csv')
D_gnd, D_gnd0, W_res_vert, dip, L_couple, D_couple = remove_mm(df['D_gnd']), remove_mm(df['D_gnd0']), remove_mm(df['W_spiral']), np.array(df['Cost']), remove_mm(df['L_extend']), remove_mm(df['D_couple'])

param_labels = ['Distance to Ground (um)', 'Gap between Turns (um)', 'Trace Width (um)', 'Length of Straight Edge (um)', 'Coupling Distance (um)']
param_values = [D_gnd*1e3, (2*D_gnd+D_gnd0)*1e3, W_res_vert*1e3, L_couple*1e3, D_couple*1e3]
object_values = dip
object_label = 'min(S21) (dB)'
plot_parallel_coord(param_labels, param_values, object_label, object_values, width=750, height=600, colorscale='thermal')


df = pd.read_csv(f'{base}/spiral_v1-1_opt.csv')[df['Cost'] < -15]
D_gnd, D_gnd0, W_res_vert, dip, L_couple, D_couple = remove_mm(df['D_gnd']), remove_mm(df['D_gnd0']), remove_mm(df['W_spiral']), np.array(df['Cost']), remove_mm(df['L_extend']), remove_mm(df['D_couple'])

param_labels = ['Distance to Ground (um)', 'Gap between Turns (um)', 'Trace Width (um)', 'Length of Straight Edge (um)', 'Coupling Distance (um)']
param_values = [D_gnd*1e3, (2*D_gnd+D_gnd0)*1e3, W_res_vert*1e3, L_couple*1e3, D_couple*1e3]
object_values = dip
object_label = 'min(S21) (dB)'
plot_parallel_coord(param_labels, param_values, object_label, object_values, width=750, height=600, colorscale='thermal')


plot_S21('spiral_v1-1-1')


plot_S21('spiral_v1-1-2')


plot_S21('spiral_v1-1-3')


plot_S21('spiral_v1-1-4', f0_guess=2.5)





plot_S21('spiral_v2-0', 5, f0_guess=3.5)  # single spiral hollow quarter-wave single-side coupled


plot_S21('spiral_v2-1', 4, f0_guess=2.5)  # corner-coupled hollow quarter-wave


plot_S21('spiral_v2-2', 4, f0_guess=3)  # corner-coupled hollow quarter-wave





plot_S21('meander_v1-0', 3, f0_guess=2)  # quarter-wave meander, short-side coupled


plot_S21('meander_v1-1', 3, f0_guess=2)  # long-end coupled quarter-wave


plot_S21('meander_v2-0', 3, f0_guess=2)  # short-end coupled half-wave


plot_S21('meander_v1-2', 3, f0_guess=2)  # extended-coupled quarter-wave


df = pd.read_csv(f'{base}/meander_v1-0_Qi_opt_0.csv')
D_gnd, D_gnd0, W_res_vert, Q = remove_mm(df['D_gnd']), remove_mm(df['D_gnd0']), remove_mm(df['W_res_vert']), -np.array(df['Cost'])

param_labels = ['Distance to Ground (um)', 'Ground Width (um)', 'Trace Width (um)']
param_values = [D_gnd*1e3, D_gnd0*1e3, W_res_vert*1e3]
object_values = Q
object_label = 'Q'
plot_parallel_coord(param_labels, param_values, object_label, object_values, width=750, height=600, colorscale='blues')


plot(df['Evaluation'], Q, xlabel='Trial Number', ylabel='$Q$')


df[df['Cost'] < -80]





plot_S21('meander_v1-1-2', 3, f0_guess=2)  # long-end coupled quarter-wave, increase long-end length


plot_S21('meander_v1-1-3', 4, f0_guess=3)  # long-end coupled quarter-wave, increase long-end length


plot_S21('meander_v1-1-4', 3, f0_guess=2)  # long-end coupled quarter-wave, crit. coupled, d=50um


df = pd.read_csv(f'{base}/meander_v1-4_optimization.csv')
D_gnd, D_gnd0 = remove_mm(df['D_gnd']), remove_mm(df['D_gnd0'])
W_res_vert = remove_mm(df['W_res_vert'])
L_couple_len = remove_mm(df['L_res_vert_0'])
L_res_vert, L_res_vert_4 = remove_mm(df['L_res_vert']), remove_mm(df['L_res_vert_4'])
Q = -np.array(df['Cost'])

param_labels = ['Distance to Ground (um)', 'Ground Width (um)', 'Trace Width (um)',
                'Coupling Length (um)', 'Trace Vertical Length (um)', 'Trace Ending Length (um)']
param_values = [D_gnd*1e3, D_gnd0*1e3, W_res_vert*1e3, L_couple_len*1e3, L_res_vert*1e3, L_res_vert_4*1e3]
object_values = Q
object_label = 'Q'
plot_parallel_coord(param_labels, param_values, object_label, object_values, width=750, height=600, colorscale='blues')


plot(df['Evaluation'], Q, xlabel='Trial Number', ylabel='$Q$')


df[df['Cost'] < -99]


v3_1 = df.loc[753]  # appears to be garbage
v3_2 = df.loc[805]  # also appears to be garbage...
v3_3 = df.loc[1146]


v3_2


df = pd.read_csv(f'{base}/meander_v3_optimization1.csv')
#df = df[df['Cost'] < -89]
#df = df[df['Cost'] > -92]
D_gnd, D_gnd0 = remove_mm(df['D_gnd']), remove_mm(df['D_gnd0'])
W_res_vert = remove_mm(df['W_res_vert'])
L_res_vert = remove_mm(df['L_res_vert'])
Q = -np.array(df['Cost'])

param_labels = ['Distance to Ground (um)', 'Ground Width (um)', 'Trace Width (um)', 'Trace Vertical Length (um)']
param_values = [D_gnd*1e3, D_gnd0*1e3, W_res_vert*1e3, L_res_vert*1e3]
object_values = Q
object_label = 'Q'
plot_parallel_coord(param_labels, param_values, object_label, object_values, width=750, height=600, colorscale='blues')


df[df['Cost'] < -90]


v3_4 = df.loc[94]


print(v3_4)
plot_S21('meander_v3-4', 5, f0_guess=3)  # long-end coupled quarter-wave, crit. coupled, d=50um


df = pd.read_csv(f'{base}/meander_v3_sweep1.csv')
#df = df[df['Cost'] < -89]
#df = df[df['Cost'] > -92]
D_gnd, D_gnd0 = remove_mm(df['D_gnd']), remove_mm(df['D_gnd0'])
W_res_vert = remove_mm(df['W_res_vert'])
L_res_vert = remove_mm(df['L_res_vert'])
Q = np.array(df['Q(1)'])

param_labels = ['Distance to Ground (um)', 'Ground Width (um)', 'Trace Width (um)', 'Trace Vertical Length (um)']
param_values = [D_gnd*1e3, D_gnd0*1e3, W_res_vert*1e3, L_res_vert*1e3]
object_values = Q
object_label = 'Q'
plot_parallel_coord(param_labels, param_values, object_label, object_values, width=750, height=600, colorscale='viridis_r')


df = pd.read_csv(f'{base}/meander_v3_sweep1.csv')
df = df[df['Q(1)'] > 70]
v3_5 = df.loc[17]
print(v3_5)
plot_S21('meander_v3-5', 4, f0_guess=2.5)


df = pd.read_csv(f'{base}/meander_v3_sweep1.csv')
df = df[df['Q(1)'] > 70]
print(df)
D_gnd, D_gnd0 = remove_mm(df['D_gnd']), remove_mm(df['D_gnd0'])
W_res_vert = remove_mm(df['W_res_vert'])
L_res_vert = remove_mm(df['L_res_vert'])
Q = np.array(df['Q(1)'])

param_labels = ['Distance to Ground (um)', 'Ground Width (um)', 'Trace Width (um)', 'Trace Vertical Length (um)']
param_values = [D_gnd*1e3, D_gnd0*1e3, W_res_vert*1e3, L_res_vert*1e3]
object_values = Q
object_label = 'Q'
plot_parallel_coord(param_labels, param_values, object_label, object_values, width=750, height=600, colorscale='viridis_r')


# long-end coupled quarter-wave, crit. coupled, d=30um, L_all=3mm
plot_S21('meander_v3-6', 5, f0_guess=3) 


# long-end coupled quarter-wave, d=30um, L_all=3mm, L_couple=4.5mm
# D_gnd=0.15mm, D_gnd0=0.1mm
plot_S21('meander_v3-7', 5, f0_guess=3) 


# long-end coupled quarter-wave, d=60um, L_all=3mm, L_couple=3.8mm, L_end=3.8mm
# D_gnd=0.35mm, D_gnd0=0.1mm, W_trace=0.35mm
plot_S21('meander_v3-8', 5, f0_guess=3) 


plot_S21('meander_v4-0', 5, f0_guess=3) 


plot_S21('meander_v5-1', 5, f0_guess=2.5) 


plot_S21('meander_v5-2', 5, f0_guess=2.5) 


plot_S21('meander_v5-3', 5, f0_guess=2.5) 


# long-end coupled quarter-wave, d=50um, L_all=3mm, L_couple=3.8mm, L_end=3.8mm
# D_gnd=0.35mm, D_gnd0=0.1mm, W_trace=0.35mm, trench depth=500um
plot_S21('meander_v5-4', 5, f0_guess=2.5) 


# long-end coupled quarter-wave, d=150um, L_all=3mm, L_couple=3.8mm, L_end=3.8mm
# D_gnd=0.35mm, D_gnd0=0.2mm, W_trace=0.35mm, trench depth=500um
plot_S21('meander_v6-0', 5, f0_guess=2.5) 


# long-end coupled quarter-wave, d=150um, L_all=3mm, L_couple=3.8mm, L_end=3.8mm
# D_gnd=0.35mm, D_gnd0=0.2mm, W_trace=0.35mm, trench depth=500um
plot_S21('meander_v6-1', 5, f0_guess=2.5) 


plot_S11('meander_v8-0', 5, f0_guess=3) 


plot_S11('meander_v8-0L', 5, f0_guess=3) 


plot_S11('meander_v8-1', 5, f0_guess=3) 


plot_S21('meander_v9', 5, f0_guess=2.5) 


plot_S21('meander_v9-1', 5, f0_guess=2.5) 


plot_S11('meander_v9L1', 5, f0_guess=2.2) # d = 0.22mm


plot_S11('meander_v9L2', 5, f0_guess=2.2) # d = 0.02mm


plot_S11('meander_v9L3', 5, f0_guess=2.2) # d = 0.23mm, integrated potential of -18.0372447916663V


plot_S11('meander_v9L5', 5, f0_guess=2.2) # d = 0.23mm, changed feedline length, L_sub = 7mm


plot_S11('meander_v9L5-1', 5, f0_guess=2.2) # d = 0.23mm, changed feedline length, L_sub = 8mm


plot_S11('meander_v9L5-2', 5, f0_guess=2.2) # d = 0.23mm, changed feedline length, L_sub = 6.3mm, potential = -16.9217124330751V


plot_S11('meander_v9L5-3', 5, f0_guess=2.2) # d = 0.23mm, changed feedline length, L_sub = 6.3mm, potential = -16.3635963645853V


plot_S11('meander_v9L4', 5, f0_guess=2.2) # d = 0.23mm


plot_S21('meander_v9-2', 5, f0_guess=2.5) 


plot_S21('meander_v9-2L', 5, f0_guess=2) 


plot_S21('meander_v9-3L', 5, f0_guess=2) 


plot_S21('meander_v10L', 5, f0_guess=2.2) 


plot_S21('meander_v10L-1', 5, f0_guess=2.2) 


plot_S21('meander_v10L-2', 5, f0_guess=2.2) 


plot_S21('meander_v10L-3', 5, f0_guess=2.2) 


plot_S11('meander_v11L', 5, f0_guess=2.1) 


plot_S11('meander_v11L-1', 3, f0_guess=2.1) 


plot_S11('meander_v11L-2', 3, f0_guess=2.1) 


plot_S11('meander_v11L-3', 3, f0_guess=2.1)  # -17.4791790685969V


plot_S11('meander_v12L', 3, f0_guess=2.3) # d = 0.3mm


plot_S11('meander_v12L-1', 3, f0_guess=2.3) # d = 0.384mm


plot_S11('meander_v12L-2', 3, f0_guess=2.2) # d = 0.384mm


plot_S11('meander_v12L-3', 3, f0_guess=2.2) # d = 0.384mm


plot_S11('meander_v12L-4', 3, f0_guess=2.3) # d = 0.384mm


plot_S11('meander_v12L-5', 3, f0_guess=2.4) # d = 0.384mm


plot_S11('meander_v12L-6', 3, f0_guess=2.4) # d = 0.384mm


plot_S11('meander_v12L-7', 3, f0_guess=2.4) # d = 0.384mm


plot_S11('meander_v12L-8', 3, f0_guess=2.6) # d = 0.384mm


plot_S11('meander_v12L-9', 3, f0_guess=2.6) # d = 0.384mm


plot_S11('meander_v12L-10', 3, f0_guess=2.6) # d = 0.384mm


plot_S11('meander_v9L6-0', 3, f0_guess=2.5) # d = 0.22mm


plot_S11('meander_v9L6-1', 3, f0_guess=2.5) # d = 0.33mm


plot_S11('meander_v9L6-2', 3, f0_guess=2.5) # d = 0.34mm, Lc = 3.3mm


plot_S11('meander_v9L6-3', 3, f0_guess=2.5) # d = 0.34mm, Lc = 2.8mm


plot_S11('meander_v9L6-4', 3, f0_guess=2.5) # d = 0.34mm, Lc = 2mm


plot_S11('meander_v9L6-5', 3, f0_guess=2.5) # d = 0.34mm, Lc = 2mm


plot_S11('meander_v9L6-6', 3, f0_guess=2.5) # d = 0.34mm, Lc = 2mm


plot_S11('meander_v9L6-7', 3, f0_guess=2.6) # d = 0.34mm, Lc = 2mm


plot_S11('meander_v9L6-8', 3, f0_guess=2.6) # d = 0.34mm, Lc = 2mm


plot_S11('meander_v9L6-9', 3, f0_guess=2.6) # d = 0.34mm, Lc = 2mm, -14.9418807134728V





class Metal:
    def __init__(self, name, Y_4K, Y_300K):
        self.name = name
        self.Y_4K = Y_4K
        self.Y_300K = Y_300K

    def __str__(self):
        return f'{self.name}: {self.Y_4K:.3e} S/m at 4K, {self.Y_300K:.3e} S/m at 300K'

class Substrate: 
    def __init__(self, name, delta_300K, delta_4K=None): 
        self.name = name 
        self.delta_4K = delta_4K
        self.delta_300K = delta_300K


Al = Metal('Al', 1/(0.000109e-8), 1/(2.733e-8))
Cu = Metal('Cu', 1/(8e-3*1e-8), 1/(16.78e-9))
Au = Metal('Au', 1/(0.0223e-8), 1/(2.271e-8))


Glass = Substrate('Glass', 3.59e-5)
RO4003C = Substrate('RO4003C', 0.0021)
Sapphire = Substrate('Sapphire', 0.00002)
Polymer = Substrate('Polymer', 0.02)
Alumina = Substrate('Alumina', 0.0001)


vert_line_colors = ['gold', 'darkorange', 'pink', 'purple', 'lime', 'darkgreen']
vert_line_colors_2 = ['green', 'grey', 'purple', 'red', 'orange']


Q0 = 215.628
fig, ax = plt.subplots(ncols=3, figsize=(13, 4))
df = pd.read_csv(f'{base}/meander_v6_sweep1.csv')
z_percent, Q = np.array(df['z_percent']), np.array(df['Q(1)'])
plot_ax(ax[0], z_percent, Q, 'o--', label=r'$\Delta x = \Delta y = 50\%$')
df = pd.read_csv(f'{base}/meander_v6_sweep2.csv')
z_percent, Q = np.array(df['z_percent']), np.array(df['Q(1)'])
plot_ax(ax[0], z_percent, Q, 'o--', label=r'$\Delta x = \Delta y = 20\%$', 
     xlabel=r'$z_{box}/z_{substrate}-1$', ylabel=r'$Q_i$', title='Influence of radiation')
ax[0].axhline(Q0, linestyle='--', color='r', alpha=0.6, label=f'Reference, No Box, $Q_i$ = {Q0:.2f}')
ax[0].legend(loc='lower right')

df = pd.read_csv(f'{base}/meander_v6_sweep3.csv')
z_percent, Q = np.array(df['$glass_loss']), np.array(df['Q(1)'])
idx = np.argsort(Q)
plot_ax(ax[1], z_percent[idx], Q[idx], 'o--', ylabel=r'$Q_i$',  
     xlabel=r'$\tan \delta$', title='Influence of substrate loss')
colors = iter(vert_line_colors_2)
for substrate in [Glass, RO4003C, Sapphire, Polymer, Alumina]:
    ax[1].axvline(substrate.delta_300K, linestyle='--', color=next(colors), alpha=0.6, label=substrate.name)
    
ax[1].set_xscale('log')
#ax[1].axhline(Q0, linestyle='--', color='r', alpha=0.6, label=f'Reference, Fused Silica, $Q_i$ = {Q0:.2f}')
ax[1].legend(loc='lower left')

df = pd.read_csv(f'{base}/meander_v6_sweep4.csv')
z_percent, Q = np.array(df['$metal_conductance']), np.array(df['Q(1)'])
plot_ax(ax[2], z_percent, Q, 'o--', ylabel=r'$Q_i$',  
     xlabel=r'Metal conductance (S/m)', title='Influence of resistive loss')
colors = iter(vert_line_colors)
for metal in [Au, Cu, Al]:
    ax[2].axvline(metal.Y_4K, linestyle='--', color=next(colors), label=f"{metal.name} at 4K")
    ax[2].axvline(metal.Y_300K, linestyle='--', color=next(colors), label=f"{metal.name} at 300K")
ax[2].set_ylim(0, 400)
ax[2].set_xscale('log')
#ax[2].axhline(Q0, linestyle='--', color='r', alpha=0.6, label=f'Reference, Pure Gold, $Q_i$ = {Q0:.2f}')
ax[2].legend(loc='upper right')

plt.tight_layout()
plt.show()


Q0 = 215.628
fig, ax = plt.subplots(ncols=3, figsize=(13, 4))
df = pd.read_csv(f'{base}/meander_v6_sweep1.csv')
z_percent, Q = np.array(df['z_percent']), np.array(df['Q(1)'])
plot_ax(ax[0], z_percent, Q, 'o--', label=r'$\Delta x = \Delta y = 50\%$')
df = pd.read_csv(f'{base}/meander_v6_sweep2.csv')
z_percent, Q = np.array(df['z_percent']), np.array(df['Q(1)'])
plot_ax(ax[0], z_percent, Q, 'o--', label=r'$\Delta x = \Delta y = 20\%$', 
     xlabel=r'$z_{box}/z_{substrate}-1$', ylabel=r'$Q_i$', title='Influence of radiation')
ax[0].axhline(Q0, linestyle='--', color='r', alpha=0.6, label=f'Reference, No Box, $Q_i$ = {Q0:.2f}')
ax[0].legend(loc='lower right')

df = pd.read_csv(f'{base}/meander_v6_sweep3.csv')
z_percent, Q = np.array(df['$glass_loss']), np.array(df['Q(1)'])
idx = np.argsort(Q)
plot_ax(ax[1], z_percent[idx], Q[idx], 'o--', ylabel=r'$Q_i$',  
     xlabel=r'$\tan \delta$', title='Influence of substrate loss')
colors = iter(vert_line_colors_2)
for substrate in [Glass, RO4003C, Sapphire, Polymer, Alumina]:
    ax[1].axvline(substrate.delta_300K, linestyle='--', color=next(colors), alpha=0.6, label=substrate.name)
    
ax[1].set_xscale('log')
#ax[1].axhline(Q0, linestyle='--', color='r', alpha=0.6, label=f'Reference, Fused Silica, $Q_i$ = {Q0:.2f}')
ax[1].legend(loc='lower left')

df = pd.read_csv(f'{base}/meander_v6_sweep4.csv')
z_percent, Q = np.array(df['$metal_conductance']), np.array(df['Q(1)'])
plot_ax(ax[2], z_percent, get_Q(Q, Q0), 'o--', ylabel=r'$Q$',  
     xlabel=r'Metal conductance (S/m)', title='Influence of resistive loss')
colors = iter(vert_line_colors)
for metal in [Au, Cu, Al]:
    ax[2].axvline(metal.Y_4K, linestyle='--', color=next(colors), label=f"{metal.name} at 4K")
    ax[2].axvline(metal.Y_300K, linestyle='--', color=next(colors), label=f"{metal.name} at 300K")
#ax[2].set_ylim(0, 500)
ax[2].set_xscale('log')
#ax[2].axhline(Q0, linestyle='--', color='r', alpha=0.6, label=f'Reference, Pure Gold, $Q_i$ = {Q0:.2f}')
ax[2].legend(loc='lower right')

plt.tight_layout()
plt.show()


S21 = np.linspace(0.1, 1, 10000)
y = np.sqrt(2*S21*(1-S21))
plot(S21, y)



