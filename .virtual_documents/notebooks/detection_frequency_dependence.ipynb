import numpy as np
import matplotlib.pyplot as plt
import detection_utils as utils
from detection_utils import e, m, kB 
from detection_utils import plot, plot_ax, plot_errbar, plot_power_spectrum
from detection_utils import W_to_dBm, dBm_to_W, dB_to_frac, frac_to_dB, voltage_noise_to_dBm
from detection_utils import find_width, moving_avg
from detection_utils import Component, DetectionSetup
from detection_utils import BandPassFilter, SpectrumAnalyzer, Amplifier
from detection_utils import HarmonicElectron, TankCircuit
from detection_utils import HarmoincElectronCoupledTank, ElectronCoupledToTank
from detection_utils import AnharmonicElectronSetup

np.random.seed(12345)
plt.rcParams['font.size'] = 13.5
